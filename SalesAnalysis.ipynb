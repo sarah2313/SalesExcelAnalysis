{
  "nbformat": 4,
  "nbformat_minor": 0,
  "metadata": {
    "colab": {
      "provenance": []
    },
    "kernelspec": {
      "name": "python3",
      "display_name": "Python 3"
    },
    "language_info": {
      "name": "python"
    }
  },
  "cells": [
    {
      "cell_type": "code",
      "execution_count": 1,
      "metadata": {
        "id": "reSRJ4LpEx_n"
      },
      "outputs": [],
      "source": [
        "import pandas as pd\n",
        "import matplotlib.pyplot as plt\n",
        "import seaborn as sns"
      ]
    },
    {
      "cell_type": "code",
      "source": [
        "# Load Excel file\n",
        "file_path = \"/content/SalesDashboard.xlsx\"\n",
        "xls = pd.ExcelFile(file_path)"
      ],
      "metadata": {
        "id": "IZKHorjFE1FH"
      },
      "execution_count": 3,
      "outputs": []
    },
    {
      "cell_type": "code",
      "source": [
        "# Load specific sheets\n",
        "calculations = pd.read_excel(xls, sheet_name=\"calculations\")"
      ],
      "metadata": {
        "id": "nfimDU-TE4pf"
      },
      "execution_count": 4,
      "outputs": []
    },
    {
      "cell_type": "code",
      "source": [
        "# Extract relevant sales data\n",
        "sales_data = calculations.iloc[2:5, [5, 6, 7, 8]]  # Extract relevant columns\n",
        "sales_data.columns = [\"Metric\", \"Latest Month\", \"Previous Month\", \"Growth Rate\"]\n",
        "sales_data = sales_data.dropna()"
      ],
      "metadata": {
        "id": "h_tcj7byE6qN"
      },
      "execution_count": 5,
      "outputs": []
    },
    {
      "cell_type": "code",
      "source": [
        "# Convert sales columns to numeric for visualization\n",
        "sales_data[\"Latest Month\"] = pd.to_numeric(sales_data[\"Latest Month\"], errors='coerce')\n",
        "sales_data[\"Previous Month\"] = pd.to_numeric(sales_data[\"Previous Month\"], errors='coerce')"
      ],
      "metadata": {
        "id": "lwyZe94RE8nr"
      },
      "execution_count": 6,
      "outputs": []
    },
    {
      "cell_type": "code",
      "source": [
        "# Plot sales trend\n",
        "plt.figure(figsize=(8,5))\n",
        "sns.barplot(x=[\"Previous Month\", \"Latest Month\"], y=[sales_data[\"Previous Month\"].sum(), sales_data[\"Latest Month\"].sum()], palette=\"coolwarm\")\n",
        "plt.title(\"Sales Performance Comparison\")\n",
        "plt.ylabel(\"Sales Amount\")\n",
        "plt.show()"
      ],
      "metadata": {
        "colab": {
          "base_uri": "https://localhost:8080/",
          "height": 572
        },
        "id": "ezBGij1kE_GV",
        "outputId": "1515a515-945f-4687-cdf9-7905e3a9e642"
      },
      "execution_count": 7,
      "outputs": [
        {
          "output_type": "stream",
          "name": "stderr",
          "text": [
            "<ipython-input-7-ff73f04a5573>:3: FutureWarning: \n",
            "\n",
            "Passing `palette` without assigning `hue` is deprecated and will be removed in v0.14.0. Assign the `x` variable to `hue` and set `legend=False` for the same effect.\n",
            "\n",
            "  sns.barplot(x=[\"Previous Month\", \"Latest Month\"], y=[sales_data[\"Previous Month\"].sum(), sales_data[\"Latest Month\"].sum()], palette=\"coolwarm\")\n"
          ]
        },
        {
          "output_type": "display_data",
          "data": {
            "text/plain": [
              "<Figure size 800x500 with 1 Axes>"
            ],
            "image/png": "[encoded data removed]"
          },
          "metadata": {}
        }
      ]
    },
    {
      "cell_type": "code",
      "source": [
        "# Save processed data\n",
        "sales_data.to_csv(\"/sales_summary.csv\", index=False)"
      ],
      "metadata": {
        "id": "TmavHUweFBbd"
      },
      "execution_count": 9,
      "outputs": []
    }
  ]
}